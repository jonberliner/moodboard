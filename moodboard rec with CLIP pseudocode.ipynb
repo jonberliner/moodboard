{
 "cells": [
  {
   "cell_type": "code",
   "execution_count": 16,
   "id": "2b6d706d",
   "metadata": {},
   "outputs": [],
   "source": [
    "# tweaked from https://huggingface.co/docs/transformers/model_doc/clip#transformers.CLIPModel.forward.returns\n",
    "\n",
    "# below is standard CLIP usage to score text snippets against a photo\n",
    "\n",
    "from PIL import Image\n",
    "\n",
    "import requests\n",
    "\n",
    "from transformers import CLIPProcessor, CLIPModel\n",
    "\n",
    "model = CLIPModel.from_pretrained(\"openai/clip-vit-base-patch32\")\n",
    "\n",
    "processor = CLIPProcessor.from_pretrained(\"openai/clip-vit-base-patch32\")\n",
    "\n",
    "url = \"http://images.cocodataset.org/val2017/000000039769.jpg\"\n",
    "\n",
    "image1 = Image.open(requests.get(url, stream=True).raw)\n",
    "image2 = Image.open(requests.get(url, stream=True).raw)  # assume a different image\n",
    "\n",
    "images = [image1, image2]\n",
    "\n",
    "# the rest of this cell is standard use of CLIP\n",
    "inputs = processor(text=[\"a photo of a cat\", \"a photo of a dog\"], images=images, return_tensors=\"pt\", padding=True)\n",
    "\n",
    "outputs = model(**inputs)\n",
    "\n",
    "logits_per_image = outputs.logits_per_image  # this is the image-text similarity score\n",
    "\n",
    "probs = logits_per_image.softmax(dim=1)  # we can take the softmax to get the label probabilities"
   ]
  },
  {
   "cell_type": "markdown",
   "id": "b2c0ebdd",
   "metadata": {},
   "source": [
    "We need to update the above so that we can calculate the scaled dot product scores between the images and images, rather than just between images and text.  below shows how to get the image embeddings.\n",
    "\n",
    "I believe I've done that below working off of the source code [here](https://github.com/huggingface/transformers/blob/v4.29.1/src/transformers/models/clip/modeling_clip.py#L1074)"
   ]
  },
  {
   "cell_type": "code",
   "execution_count": 2,
   "id": "79fa0ca2",
   "metadata": {},
   "outputs": [
    {
     "data": {
      "text/plain": [
       "torch.Size([2, 512])"
      ]
     },
     "execution_count": 2,
     "metadata": {},
     "output_type": "execute_result"
    }
   ],
   "source": [
    "outputs.image_embeds.shape"
   ]
  },
  {
   "cell_type": "code",
   "execution_count": 3,
   "id": "fff34415",
   "metadata": {},
   "outputs": [],
   "source": [
    "# code for calculating similarity scores between images\n",
    "import torch\n",
    "\n",
    "image_embeds = outputs.image_embeds\n",
    "\n",
    "logit_scale = model.logit_scale.exp()"
   ]
  },
  {
   "cell_type": "code",
   "execution_count": 15,
   "id": "059c4b7a",
   "metadata": {},
   "outputs": [],
   "source": [
    "# assume these are different sets of images\n",
    "\n",
    "moodboard_images = images\n",
    "\n",
    "recommendation_candidate_images = images\n",
    "\n",
    "# text is just here to make the thing run\n",
    "inputs1 = processor(text=[\"dummy\"], images=moodboard_images, return_tensors=\"pt\", padding=True)\n",
    "inputs2 = processor(text=[\"dummy\"], images=recommendation_candidate_images, return_tensors=\"pt\", padding=True)\n",
    "\n",
    "moodboard_image_embeds = model(**inputs1).image_embeds\n",
    "recommendation_candidate_image_embeds = model(**inputs2).image_embeds\n",
    "\n",
    "# hopefully, the closer these are, the higher the recommendation quality\n",
    "recommender_scores = torch.matmul(\n",
    "    recommendation_candidate_image_embeds,\n",
    "    moodboard_image_embeds.t()\n",
    ") * logit_scale"
   ]
  },
  {
   "cell_type": "markdown",
   "id": "a65275e3",
   "metadata": {},
   "source": [
    "# 5.14.23 - autoencoder"
   ]
  },
  {
   "cell_type": "code",
   "execution_count": 17,
   "id": "8105b0e5",
   "metadata": {},
   "outputs": [],
   "source": [
    "import torch\n",
    "from torch import nn"
   ]
  },
  {
   "cell_type": "code",
   "execution_count": 65,
   "id": "04f380ff",
   "metadata": {},
   "outputs": [],
   "source": [
    "class Encoder(nn.Module):\n",
    "    def __init__(self, in_channels, latent_dim, hidden_dims):\n",
    "        super().__init__()\n",
    "        self.latent_dim = latent_dim\n",
    "        \n",
    "        modules = []\n",
    "        \n",
    "        # Build Encoder\n",
    "        for h_dim in hidden_dims:\n",
    "            modules.append(\n",
    "                nn.Sequential(\n",
    "                    nn.Conv2d(in_channels, out_channels=h_dim,\n",
    "                              kernel_size= 3, stride= 2, padding  = 1),\n",
    "                    nn.BatchNorm2d(h_dim),\n",
    "                    nn.LeakyReLU())\n",
    "            )\n",
    "            in_channels = h_dim\n",
    "\n",
    "        self.encoder = nn.Sequential(*modules)\n",
    "        self.fc_mu = nn.Linear(hidden_dims[-1], self.latent_dim)\n",
    "        self.fc_var = nn.Linear(hidden_dims[-1], self.latent_dim)\n",
    "        \n",
    "    def forward(self, input):\n",
    "        hid = self.encoder(input)\n",
    "        \n",
    "        hid = hid.sum([2, 3])\n",
    "        \n",
    "        mu, log_var = self.fc_mu(hid), self.fc_var(hid)\n",
    "        return (mu, log_var)\n",
    "    \n",
    "    \n",
    "class Decoder(nn.Module):\n",
    "    def __init__(\n",
    "        self, \n",
    "        encoder_in_channels, \n",
    "        encoder_latent_dim, \n",
    "        encoder_hidden_dims,\n",
    "    ):\n",
    "        super().__init__()\n",
    "        # Build Decoder\n",
    "        modules = []\n",
    "\n",
    "        self.decoder_input = nn.Linear(\n",
    "            encoder_latent_dim,\n",
    "            encoder_hidden_dims[-1])\n",
    "    \n",
    "        hidden_dims = list(reversed(encoder_hidden_dims))\n",
    "        self.hidden_dims = hidden_dims\n",
    "\n",
    "        for i in range(len(hidden_dims) - 1):\n",
    "            modules.append(\n",
    "                nn.Sequential(\n",
    "                    nn.ConvTranspose2d(hidden_dims[i],\n",
    "                                       hidden_dims[i + 1],\n",
    "                                       kernel_size=3,\n",
    "                                       stride = 2,\n",
    "                                       padding=1,\n",
    "                                       output_padding=1),\n",
    "                    nn.BatchNorm2d(hidden_dims[i + 1]),\n",
    "                    nn.LeakyReLU())\n",
    "            )\n",
    "\n",
    "        self.decoder = nn.Sequential(*modules)\n",
    "\n",
    "        self.final_layer = nn.Sequential(\n",
    "                            nn.ConvTranspose2d(hidden_dims[-1],\n",
    "                                               hidden_dims[-1],\n",
    "                                               kernel_size=3,\n",
    "                                               stride=2,\n",
    "                                               padding=1,\n",
    "                                               output_padding=1),\n",
    "                            nn.BatchNorm2d(hidden_dims[-1]),\n",
    "                            nn.LeakyReLU(),\n",
    "                            nn.Conv2d(hidden_dims[-1], out_channels=encoder_in_channels,\n",
    "                                      kernel_size= 3, padding= 1),\n",
    "        )\n",
    "    \n",
    "    def forward(self, encoder_latent):\n",
    "        result = self.decoder_input(encoder_latent)\n",
    "        result = result.view(-1, self.hidden_dims[0], 1, 1)\n",
    "        result = self.decoder(result)\n",
    "        result = self.final_layer(result)\n",
    "        return result    "
   ]
  },
  {
   "cell_type": "code",
   "execution_count": 54,
   "id": "6c67b4a5",
   "metadata": {},
   "outputs": [],
   "source": [
    "encoder_hidden_dims = [32, 64, 128, 256, 512]\n",
    "encoder_in_channels = 1\n",
    "encoder_latent_dim = encoder_hidden_dims[-1] * 4\n",
    "\n",
    "\n",
    "encoder = Encoder(\n",
    "    encoder_in_channels,\n",
    "    encoder_latent_dim,\n",
    "    encoder_hidden_dims,\n",
    ")\n",
    "\n",
    "decoder = Decoder(\n",
    "    encoder_in_channels,\n",
    "    encoder_latent_dim,\n",
    "    encoder_hidden_dims,\n",
    ")"
   ]
  },
  {
   "cell_type": "code",
   "execution_count": 71,
   "id": "20b03e0e",
   "metadata": {},
   "outputs": [],
   "source": [
    "images = torch.randn(8, encoder_in_channels, 64, 64)"
   ]
  },
  {
   "cell_type": "code",
   "execution_count": 72,
   "id": "36b26966",
   "metadata": {},
   "outputs": [],
   "source": [
    "hid = encoder.encoder(images)"
   ]
  },
  {
   "cell_type": "code",
   "execution_count": 73,
   "id": "394f7ead",
   "metadata": {},
   "outputs": [
    {
     "data": {
      "text/plain": [
       "torch.Size([8, 512, 2, 2])"
      ]
     },
     "execution_count": 73,
     "metadata": {},
     "output_type": "execute_result"
    }
   ],
   "source": [
    "hid.shape"
   ]
  },
  {
   "cell_type": "code",
   "execution_count": 63,
   "id": "57d60ef9",
   "metadata": {},
   "outputs": [
    {
     "data": {
      "text/plain": [
       "torch.Size([8, 1, 32, 32])"
      ]
     },
     "execution_count": 63,
     "metadata": {},
     "output_type": "execute_result"
    }
   ],
   "source": [
    "decoder(z).shape"
   ]
  },
  {
   "cell_type": "code",
   "execution_count": 75,
   "id": "400f4b36",
   "metadata": {},
   "outputs": [],
   "source": [
    "nn.TransformerDecoderLayer?"
   ]
  },
  {
   "cell_type": "code",
   "execution_count": null,
   "id": "879fee40",
   "metadata": {},
   "outputs": [],
   "source": []
  }
 ],
 "metadata": {
  "kernelspec": {
   "display_name": "Python 3 (ipykernel)",
   "language": "python",
   "name": "python3"
  },
  "language_info": {
   "codemirror_mode": {
    "name": "ipython",
    "version": 3
   },
   "file_extension": ".py",
   "mimetype": "text/x-python",
   "name": "python",
   "nbconvert_exporter": "python",
   "pygments_lexer": "ipython3",
   "version": "3.8.15"
  }
 },
 "nbformat": 4,
 "nbformat_minor": 5
}
